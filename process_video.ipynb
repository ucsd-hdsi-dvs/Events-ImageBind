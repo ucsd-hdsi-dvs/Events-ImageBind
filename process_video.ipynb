{
 "cells": [
  {
   "cell_type": "markdown",
   "metadata": {},
   "source": [
    "##### chunk train videos csv"
   ]
  },
  {
   "cell_type": "code",
   "execution_count": null,
   "metadata": {},
   "outputs": [],
   "source": [
    "import pandas as pd\n",
    "import cv2\n",
    "datalist_path='/tsukimi/datasets/Chiba/baseline/datalist_3/train.csv'\n",
    "# read datalist\n",
    "datalist = pd.read_csv(datalist_path,header=None, delimiter=',')\n",
    "labels=list(datalist.values[:,1])\n",
    "videos=list(datalist.values[:,0])\n",
    "\n",
    "def process_video(video_path,label,segment_length = 17):\n",
    "    # read video\n",
    "    cap = cv2.VideoCapture(video_path)\n",
    "    # print(int(cap.get(cv2.CAP_PROP_FRAME_COUNT)))\n",
    "    video_segments = []\n",
    "    \n",
    "    # clip video to 17 frames each\n",
    "    frame_count = 0\n",
    "    frames=[]\n",
    "    while True:\n",
    "        success = True\n",
    "        if not frames:\n",
    "            # read first frame\n",
    "            success, frame = cap.read()\n",
    "            if not success:\n",
    "                break\n",
    "            frames.append(frame)\n",
    "\n",
    "        for _ in range(segment_length-1):\n",
    "            success, frame = cap.read()\n",
    "            if not success:\n",
    "                break \n",
    "            frames.append(frame)\n",
    "            \n",
    "        # Check if we have collected 17 frames\n",
    "        if len(frames) == segment_length:\n",
    "            start_frame = frame_count\n",
    "            end_frame = frame_count + segment_length - 1\n",
    "            segment_info = {\n",
    "                'video_path': video_path,\n",
    "                'label': label,\n",
    "                'start_frame': start_frame,\n",
    "                'end_frame': end_frame\n",
    "            }\n",
    "            video_segments.append(segment_info)\n",
    "            # reset frames, last frame will be used as first frame in next segment\n",
    "            frames = [frames[-1]]\n",
    "            frame_count=end_frame\n",
    "        else:\n",
    "            break\n",
    "    cap.release()\n",
    "    df = pd.DataFrame(video_segments)\n",
    "    return df\n"
   ]
  },
  {
   "cell_type": "code",
   "execution_count": null,
   "metadata": {},
   "outputs": [],
   "source": [
    "data=process_video(videos[0],labels[0])\n",
    "for video, label in zip(videos[1:], labels[1:]):\n",
    "    df = process_video(video,label)\n",
    "    data = pd.concat([data, df], ignore_index=True)\n",
    "print(data)"
   ]
  },
  {
   "cell_type": "code",
   "execution_count": null,
   "metadata": {},
   "outputs": [],
   "source": [
    "# save to '/tsukimi/datasets/Chiba/baseline/datalist_3/train_16.csv'\n",
    "data.to_csv('/tsukimi/datasets/Chiba/baseline/datalist_3/train_16.csv', index=False)"
   ]
  },
  {
   "cell_type": "code",
   "execution_count": null,
   "metadata": {},
   "outputs": [],
   "source": [
    "# count label distribution\n",
    "labels=data['label'].apply(lambda x:x.split('&'))\n",
    "labels"
   ]
  },
  {
   "cell_type": "code",
   "execution_count": null,
   "metadata": {},
   "outputs": [],
   "source": [
    "dist={}\n",
    "for label in labels:\n",
    "    for l in label:\n",
    "        if l not in dist:\n",
    "            dist[l]=1\n",
    "        else:\n",
    "            dist[l]+=1\n",
    "print(dist)"
   ]
  },
  {
   "cell_type": "code",
   "execution_count": null,
   "metadata": {},
   "outputs": [],
   "source": [
    "# check if empty row exists\n",
    "data.isnull().sum()"
   ]
  }
 ],
 "metadata": {
  "kernelspec": {
   "display_name": "imagebind",
   "language": "python",
   "name": "python3"
  },
  "language_info": {
   "codemirror_mode": {
    "name": "ipython",
    "version": 3
   },
   "file_extension": ".py",
   "mimetype": "text/x-python",
   "name": "python",
   "nbconvert_exporter": "python",
   "pygments_lexer": "ipython3",
   "version": "3.8.19"
  }
 },
 "nbformat": 4,
 "nbformat_minor": 2
}
